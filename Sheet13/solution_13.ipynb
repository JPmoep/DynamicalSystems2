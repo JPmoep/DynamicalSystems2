{
 "cells": [
  {
   "cell_type": "markdown",
   "metadata": {},
   "source": [
    "# Solution hints for exercise sheet 13\n",
    "\n",
    "## Exercise 1\n",
    "\n",
    "We study the logistic map $g\\colon x 􏰀\\mapsto 4x(1 − x)$. First, it suffices to show the statement for intervals $[a,b]$ since those generate the $\\sigma$-algebra. Second, we have that the preimage of $[a,b]$ is given by $[c,d]\\cup[c',d']$, where the first interval is in the left half and the second is in the right half. On each half, $g$ is smooth and invertible. That means that\n",
    "$$\n",
    "\\mu(g^{-1}([a,b])) = \\int_{g^{-1}(a)}^{g^{-1}(b)} f(x)\\,dx = \\int_c^d f(x)\\,dx+\\int_{c'}^{d'} f(x)\\,dx = 2\\int_c^d f(x)\\,dx,\n",
    "$$\n",
    "due to the symmetry of the density $f$. We want to show that\n",
    "$$\n",
    "2\\int_c^d f(x)\\,dx = \\mu(g^{-1}([a,b])) = \\mu([a,b]) = \\int_a^b f(x)\\,dx = \\int_{g(c)}^{g(d)} f(x)\\,dx = \\int_c^d f(g(x))g'(x)\\,dx.\n",
    "$$\n",
    "It remains to verify that\n",
    "$$\n",
    "2 f(x) = f(g(x))g'(x),\n",
    "$$\n",
    "which is straightforward.\n",
    "\n",
    "## Exercise 2\n",
    "\n",
    "The integral equality follows directly from the transformation of integrals (\"change of variables (in integral)\") formula that you certainly discussed in your measure theory class, see the [Wikipedia article](https://en.wikipedia.org/wiki/Pushforward_measure#Main_property:_change-of-variables_formula). The converse statement is easily verified by applying the integral equality to characteristic functions of measurable sets."
   ]
  },
  {
   "cell_type": "code",
   "execution_count": null,
   "metadata": {},
   "outputs": [],
   "source": []
  }
 ],
 "metadata": {
  "kernelspec": {
   "display_name": "Julia 0.6.2",
   "language": "julia",
   "name": "julia-0.6"
  },
  "language_info": {
   "file_extension": ".jl",
   "mimetype": "application/julia",
   "name": "julia",
   "version": "0.6.3"
  }
 },
 "nbformat": 4,
 "nbformat_minor": 2
}
