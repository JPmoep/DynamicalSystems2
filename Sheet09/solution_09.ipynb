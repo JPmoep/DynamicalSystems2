{
 "cells": [
  {
   "cell_type": "markdown",
   "metadata": {},
   "source": [
    "# Solution hints for exercise sheet 9\n",
    "\n",
    "## Exercise 1: Mechanical 1-DOF systems\n",
    "\n",
    "This is a fantastic equation-free exercise. There are a few facts that are helpful.\n",
    "1. An intuition: We discussed that you can image the mechanical system as an icy ball that slides over an icy mountain landscape given by the potential $V$, where \"icy\" means without any friction.\n",
    "2. The system is Hamiltonian, where the first integral/conserved quantity is energy, i.e.,\n",
    "\n",
    "    $$\n",
    "    E(x,y) = \\frac{1}{2}y^2+V(x),\n",
    "    $$\n",
    "\n",
    "    that is the sum of kinetic and potential energy ($y$ is playing the role of velocity $\\dot{x}$ here). Check that! Now, think about the following: assume the ball is released with zero velocity and starts moving, i.e., gains velocity. Where does it go: up or down the hill? What if it is placed at some minimum of $V$? Generally, what is the interplay between velocity and height?\n",
    "\n",
    "The next steps are straightforward: compute equilibria and perform a linear stability analysis. Clearly, critical points of the potential, i.e., at which $V'(x)=0$, are relevant, and we shall restrict to nondegenerate critical points, with $V''(x)\\neq0$. You will find that maxima are hyperbolic equilibria and minima are nonhyperbolic but stable (which follows from Lyapunov's method) equilibria, which is hopefully by now fully consistent with your intuition. As a template, you may now draw circles/ellipses around the potential minima in the phase portrait, and crosses for the stable and unstable manifolds at the potential maxima.\n",
    "\n",
    "It remains to clarify how the invariant manifolds extend, which is easily seen using (2) above.\n",
    "\n",
    "## Exercise 2: Homoclinic bifurcation\n",
    "\n",
    "1. For the mentioned parameter values, the origin is hyperbolic and comes with a stable and an unstable manifold.\n",
    "2. Define a function $H\\colon (x, y)\\mapsto x^2(1 − x) − y^2$, whose zero level set $\\lbrace H=0\\rbrace$ is supposed to be invariant. That is easily verfied by computing $\\nabla H\\cdot f$ along the zero level set. This vanishes, and hence invariance is shown. Since the zero level set is a one-dimensional manifold, it can only have unidirectional dynamics as long as there are no further equilibria on it. You can check that by locally solving $x^2(1 − x) − y^2=0$ for one of the variables and pasting into the full equation, which then cannot have any equilibrium.\n",
    "3. There is nothing to be done here, except for applying the Theorem from the lecture notes. The crucial assumption is assumed in the exercise formulation: $\\xi'(0)\\neq 0$. But this is an extremely hard problem, because one would need to have information on the response of the stable and unstable manifolds to parameter variation. To first order, this is accessible from the linearization at the hyperbolic equilibrium, but this is not where the \"pseudo-Poincaré section\" is!\n",
    "\n",
    "## Exercise 3: Center manifold\n",
    "\n",
    "You proceed as usual. The only minor issue here is that we're talking about subspaces of higher dimension. So, it doesn't make sense to write an ansatz for the manifold as $x = h(y) = a_2y^2 + ...$. Instead, we need\n",
    "\n",
    "$$\n",
    "x = h(y) = A_2(y) + O(||y||^3),\n",
    "$$\n",
    "where $A_2$ is a vector-valued function, whose components are homogeneous polynomials of degree 2 in the $y$'s. All you need in this exercise is to keep track of the orders. When you want to annihilate the second order term in the invariance equation $\\mathcal{N}(h)$, you will see that $y\\mapsto −A^{−1}F_2(y)$ does the job.\n",
    "\n",
    "## Exercise 4: Center manifold\n",
    "\n",
    "I think this exercise is solvable by the methods presented in the lecture. Anyway, for the first part, you make the usual center manifold ansatz, this time with an infinite series, and solve coefficient by coefficient. Using this solution, you will see that the convergence radius of the series is zero, so the center manifold cannot be analytic. The second part is tedious and hence omitted."
   ]
  },
  {
   "cell_type": "code",
   "execution_count": null,
   "metadata": {
    "collapsed": true
   },
   "outputs": [],
   "source": []
  }
 ],
 "metadata": {
  "kernelspec": {
   "display_name": "Julia 0.6.2",
   "language": "julia",
   "name": "julia-0.6"
  },
  "language_info": {
   "file_extension": ".jl",
   "mimetype": "application/julia",
   "name": "julia",
   "version": "0.6.3"
  }
 },
 "nbformat": 4,
 "nbformat_minor": 2
}
