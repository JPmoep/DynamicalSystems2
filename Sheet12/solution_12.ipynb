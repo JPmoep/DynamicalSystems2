{
 "cells": [
  {
   "cell_type": "markdown",
   "metadata": {},
   "source": [
    "# Solution hints for exercise sheet 12\n",
    "\n",
    "## Exercise 1\n",
    "\n",
    "(a) This has been done in the lecture. Note that $\\sin^2(\\pi x/2) = (1 − \\cos(\\pi x))/2$. :-P\n",
    "\n",
    "(b) Let $f\\colon X\\to X$ and $g\\colon Y\\to Y$ be two time-discrete dynamical systems on topological spaces $X$ and $Y$, respectively, which are topologically conjugate via $h\\colon X\\to Y$. W.l.o.g. assume that $f$ is topologically transitive, i.e., it admits a dense orbit. Let the orbit of $x_0\\in X$ be dense in $X$, i.e., for any open $U\\subset X$ there exists a $k\\in\\mathbb{N}$ such that $g^k(y_0)\\in U$. We need to find a dense (in $Y$) orbit under the action of $g$. That is, we need to find a $y_0\\in Y$ such that for any $V\\subset Y$ there exists a $k\\in\\mathbb{N}$ with $g^k(y_0)\\in V$. First, $h^{-1}(V) =: U$ is open in $X$ since $h$ is continuous. Using the fact that $h$ is a conjugacy between $f$ and $g$ it is straightforward to check that for $y_0 = h(x_0)$ and for the same $k\\in\\mathbb{N}$ for which $f^k(x_0) \\in U$ we have $g^k(y_0)\\in V$. q.e.d.\n",
    "\n",
    "## Exercise 2\n",
    "\n",
    "Make a linear ansatz for $h$ of the form $x\\mapsto \\alpha x + \\beta$ and solve the conjugacy equation.\n",
    "\n",
    "## Exercise 3\n",
    "\n",
    "(T1) Claim: $\\mathcal{A}$ is closed and invariant. \n",
    "\n",
    "The trapping region is, by definition, compact, and so is its image $\\varphi_t(U)$ for any $t$ under the continous flow. In particular, all $\\varphi_t(U)$ are closed and so is their intersection, which is $\\mathcal{A}$.\n",
    "\n",
    "For invariance, we first note a monotonicity property: let $t\\geq s$ and $x\\in U$. Then $\\varphi_t(x) = \\varphi_s(\\varphi_{t-s}(x))\\in \\varphi_s(U)$, since $\\varphi_{t-s}(x)\\in U$, because $t-s\\geq 0$ and $U$ is a trapping region. Hence, $\\varphi_t(U)\\subset\\varphi_s(U)$ for any $t\\geq s$. Second, let $p\\in \\mathcal{A} = \\bigcap_{s\\geq 0}\\varphi_s(U)$ and $t\\geq 0$. We want to show that $\\varphi_t(p)\\in \\mathcal{A}$. \n",
    "Take $s\\geq 0$, then $p\\in \\varphi_s(U)$ (from the definition of $\\mathcal A$). Hence, $\\phi_t(p)\\in \\varphi_t(\\varphi_s(U))=\\varphi_{t+s}(U)\\subset \\varphi_s(U)$ due to the monotonicity. Since this holds for arbitrary $s\\geq 0$, we have $\\varphi_t(p)\\in \\mathcal A$, i.e. the set is (forward) invariant. Note that the argument cannot be applied to the $t<0$ case, so backward invariance remains an open issue (but may have not been intended to be claimed?)!\n",
    "\n",
    "(T2) Claim: for any $x_0\\in U$ one has $\\omega(x_0)\\subset\\mathcal{A}$.\n",
    "\n",
    "Points $x$ in the $\\omega$-limit set of $x_0$ are characterized by the existence of a strictly increasing and diverging time sequence $(t_k)_k$ for which $\\lim_{k\\to\\infty}\\varphi_{t_k}(x_0) = x$. Let $t\\geq 0$, then $t_k\\geq t$ for $k$ sufficiently large. Hence, $\\varphi_{t_k}(x_0)\\in \\varphi_{t_k}(U)\\subset \\varphi_t(U)$ due to the monotonicity. Thus, $\\varphi_{t_k}(x_0)$ is a converging sequence in the compact set $\\varphi_t(U)$ and therefore $x\\in \\varphi_t(U)$. Since this holds for arbitrary $t\\geq 0$, we have $x\\in \\mathcal A$ and thus $\\omega(x_0)\\subset \\mathcal A$.\n",
    "\n",
    "Regarding the specific system, trapping regions are circular/elliptic regions around each of the stable equilibria or around all three equilibria $(-1, 0)$, $(0,0)$, and $(1,0)$. In the first cases, the attracting sets are given by the stable equilibria themselves, and these are also attractors. In the latter case, the attracting set corresponds to the three equilibria and the unstable manifold of the hyperbolic equilibrium, i.e., altogether $\\lbrace (x,y);~ x\\in[-1,1],~y=0\\rbrace$."
   ]
  },
  {
   "cell_type": "code",
   "execution_count": null,
   "metadata": {},
   "outputs": [],
   "source": []
  }
 ],
 "metadata": {
  "kernelspec": {
   "display_name": "Julia 0.6.2",
   "language": "julia",
   "name": "julia-0.6"
  },
  "language_info": {
   "file_extension": ".jl",
   "mimetype": "application/julia",
   "name": "julia",
   "version": "0.6.3"
  }
 },
 "nbformat": 4,
 "nbformat_minor": 2
}
