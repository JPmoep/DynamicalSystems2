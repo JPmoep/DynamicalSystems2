{
 "cells": [
  {
   "cell_type": "markdown",
   "metadata": {},
   "source": [
    "# Solution hints for exercise sheet 10\n",
    "\n",
    "## Exercise 1: Normal forms for maps\n",
    "\n",
    "Compared to the previously discussed normal form exercises with flows, the current exercise has two \"deviations\":\n",
    "1. it's for maps, and\n",
    "2. it's not already given in normal form.\n",
    "\n",
    "As for 2., it is straightforward to compute the transformation to the eigenbasis of the linear part $\\begin{pmatrix} 1 & 2\\\\ 0 & 3\\end{pmatrix}$. We need to transform the map from the currently given coordinates to eigencoordinates. In the normal form context, this actually means that we're transforming to normal form on the first order level (usually, we could skip this part because the system was already in normal form, or, in other words, on first order in Jordan normal form). Let's assume that the first-order normal form coordinates (\"eigencoordinates\") are referred to as $\\tilde{x}$, $\\tilde{y}$, and let's denote the map $\\Psi$ in the tilde-coordinates by $\\tilde{\\Psi}$. By construction, $\\tilde{\\Psi}$ has the form\n",
    "$$\n",
    "\\tilde{\\Psi} = A+H_2+\\mathcal{O}(3).\n",
    "$$\n",
    "Then we seek a near-identity transformation $T_2$ to coordinates $u$, $v$:\n",
    "$$\n",
    "\\begin{pmatrix} \\tilde{x}\\\\ \\tilde{y} \\end{pmatrix} = \\begin{pmatrix} u\\\\ v \\end{pmatrix} + h_2(u,v) = T_2(u,v),\n",
    "$$\n",
    "where $h_2$ is a homogeneous vector-valued polynomial of degree 2, in which the map $\\Psi$ has as few terms as possible.\n",
    "\n",
    "The inverse coordinate transformation is of the form\n",
    "$$\n",
    "T_2^{-1}(\\tilde{x},\\tilde{y}) = \\begin{pmatrix} u\\\\ v \\end{pmatrix} = \\begin{pmatrix} \\tilde{x}\\\\ \\tilde{y} \\end{pmatrix} - h_2(u,v) +\\mathcal{O}((u,v)^3),\n",
    "$$\n",
    "and we need to look at the map $\\Psi$ in $(u,v)$ coordinates:\n",
    "$$\n",
    "\\begin{align*}\n",
    "T_2^{-1}\\circ\\tilde{\\Psi}\\circ T_2(u,v) &= (\\text{id}-h_2+\\mathcal{O}(3))\\circ(A+H_2+\\mathcal{O}(3))\\circ(\\text{id}+h_2)\\\\\n",
    "&= A + H_2 +A\\circ h_2-h_2\\circ A + \\mathcal{O}(3).\n",
    "\\end{align*}\n",
    "$$\n",
    "Analogously to the vector field case, we are therefore interested in solutions $h_2$ of the following homological equation:\n",
    "$$\n",
    "Lh_2 := A\\circ h_2-h_2\\circ A = H_2.\n",
    "$$\n",
    "At this point, the usual arguments and machinery from the vector field case apply.\n",
    "\n",
    "## Exercise 2: Symbolic dynamics\n",
    "\n",
    "Part 1 is straightforward using the geometric series and its well-known limit.\n",
    "\n",
    "Part 2: \n",
    "   1. Compact:\n",
    "     Let $x^n$ be a sequence in $\\Sigma_N$. Let $x^{0,n}$ be a subsequence such that $x_0^{0,n}$ is the same for all $n$ (since the number of symbols is finite such a subsequence must exist). Likewise, let $x^{1,n}$ be a subsequence of $x^{0,n}$ where $x^{1,n}_1$ is the same for all $n$ (again such a subsequence must exist since the number of symbols is finite). Hence, $x^{1,n}$ is a subsequence of $x^n$ where the first element $x_0^{1,n}$ of all elements $x^{1,n}$ are equal and the second $x^{1,n}_1$ as well. Proceeding inductively, we obtain subsequences $(x^{j,n})_n$ such that $x_k^{j,n}$ is the same for all $n$ if $0\\leq k\\leq j$.\n",
    "     \n",
    "    Define $x=(x_n^{n,n})_n$, which is a subsequence of $x^n$. Then, $(x^{n,n})_n$ is a sequence of subsequences (of $x^n$) converging to $x$ because $d(x^{n,n},x)\\leq N^{-n}\\rightarrow 0$ as $n\\rightarrow \\infty$ (follows from a) as $x^{n,n}$ and $x$ agree in the first $n$ elements). Hence, every sequence has a converging subsequence, i.e. $\\Sigma_N$ is compact.\n",
    "   2. Perfect: Fix $x\\in \\Sigma_N$ and define $x^n$ such that $x_j^n=x_j$ for $0\\leq j\\leq n$ and $x^n_{n+1}\\neq x_{n+1}$. Then $x\\neq x^n$ and $x^n$ converges to $x$.\n",
    "   3. Totally disconnected: We show the stronger property of $\\Sigma_N$ being totally separated. A space $X$ is called totally separated if  $\\forall x,y\\in X$, $x\\neq y$, $\\exists$ open, disjoint sets $U,V$ with $x\\in U$, $y\\in V$ and $X=U\\cup V$.\n",
    "   Let $x,y\\in \\Sigma_N$, $x\\neq y$. Then there exists $j\\in \\mathbb N_0$ such that $x_j\\neq y_j$. Now define $U:=\\{z\\in \\Sigma_N:z_j=x_j\\}$ and $V:=\\{z\\in \\Sigma_N:z_j\\neq x_j\\}$. It holds: $\\Sigma_N=U\\cup V$, $U$ and $V$ are disjoint and $x\\in U$, $y\\in V$. We are left to show that $U,V$ are open. Set $\\varepsilon=N^{-j}$ and let $z\\in U$ and $w\\in \\Sigma_N$. Assume $d(z,w)<\\varepsilon= N^{-j}$, then from (1) we know that $z_k=w_k$ for all $k\\leq j$. Hence, $z_j=w_j=x_j$ and thus $w\\in U$. This shows that $U$ is open. Likewise we show that $V$ is open. Let $z\\in V$ and $w\\in \\Sigma_N$ and assume $d(z,w)<\\varepsilon=N^{-j}$. From a) it follows that $w_k=z_k$ for all $k\\leq j$. Hence, $w_j=z_j\\neq x_j$ and thus $w\\in V$. This shows that $V$ is open.\n",
    "   \n",
    "Part 3: Construct an orbit as follows: Start with the values $0,...,N-1$ as first coefficients. Now add all $N^2$ two digit combinations of $0,...,N-1$. Next add all $N^3$ three digit combinations. Proceeding inductively we obtain a sequence $x$.\n",
    "\n",
    "Now let $y\\in \\Sigma_N$ be given. The first $n$ coefficients of $y$ appear as a block somewhere in $x$ by construction. Hence shifting $x$ $k$ times until this block reaches the start we have that $\\sigma^k(x)$ and $y$ coincide in the first $n$ coefficients and form (a) we thus know:\n",
    "$$\n",
    "d(\\sigma^k(x),y)\\leq N^{-n}.\n",
    "$$\n",
    "Hence the orbit is dense. \n",
    "\n",
    "## Exercise 3: Mass on a hoop\n",
    "\n",
    "This is a straightforward exercise. Its purpose was to demonstrate that you can also solve \"real-world\" problems. ;-)"
   ]
  },
  {
   "cell_type": "code",
   "execution_count": null,
   "metadata": {
    "collapsed": true
   },
   "outputs": [],
   "source": [
    "\n"
   ]
  }
 ],
 "metadata": {
  "kernelspec": {
   "display_name": "Julia 0.6.2",
   "language": "julia",
   "name": "julia-0.6"
  },
  "language_info": {
   "file_extension": ".jl",
   "mimetype": "application/julia",
   "name": "julia",
   "version": "0.6.3"
  }
 },
 "nbformat": 4,
 "nbformat_minor": 2
}
