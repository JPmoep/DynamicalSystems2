{
 "cells": [
  {
   "cell_type": "markdown",
   "metadata": {},
   "source": [
    "# Solution hints for exercise sheet 8\n",
    "\n",
    "## Exercise 1\n",
    "\n",
    "This is solved straightforwardly, following the scheme presented in the lecture. What is important here, in view of \"Exercise 3\", is that the center manifold (reduction) is performed for fixed parameter $\\alpha$. For that to work, the equilibrium needs to be nonhyperbolic for all values of $\\alpha$. This is a very specific case, as generically nonhyperbolicity is easily \"perturbed away\". Thus, the center manifold reduction for the present vector field allows us to determine the stability of the nonhyperbolic equilibrium (for which the linearization is inconclusive) for FIXED PARAMETER $\\alpha$! See the discussion on the exercise sheet and the Lorenz model exercise on sheet 11.\n",
    "\n",
    "## Exercise 2\n",
    "\n",
    "We actually discussed this on sheet 9, so please turn the page.\n",
    "\n",
    "## Exercise 3\n",
    "\n",
    "Much has been said on the exercise sheet, and there is nothing to add. You should make sure you appreciate the difference of the \"parameter-dependent center manifold\" and the \"center manifold with fixed parameter\" as in exercise 1."
   ]
  },
  {
   "cell_type": "code",
   "execution_count": null,
   "metadata": {
    "collapsed": true
   },
   "outputs": [],
   "source": []
  }
 ],
 "metadata": {
  "kernelspec": {
   "display_name": "Julia 0.6.2",
   "language": "julia",
   "name": "julia-0.6"
  },
  "language_info": {
   "file_extension": ".jl",
   "mimetype": "application/julia",
   "name": "julia",
   "version": "0.6.3"
  }
 },
 "nbformat": 4,
 "nbformat_minor": 2
}
